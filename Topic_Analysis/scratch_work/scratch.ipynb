{
 "metadata": {
  "language_info": {
   "codemirror_mode": {
    "name": "ipython",
    "version": 3
   },
   "file_extension": ".py",
   "mimetype": "text/x-python",
   "name": "python",
   "nbconvert_exporter": "python",
   "pygments_lexer": "ipython3",
   "version": "3.7.4"
  },
  "orig_nbformat": 2,
  "kernelspec": {
   "name": "python374jvsc74a57bd02b527d7781d4a31635226107eb728482842e563b5377aecfdaf2b175f7174225",
   "display_name": "Python 3.7.4 64-bit"
  }
 },
 "nbformat": 4,
 "nbformat_minor": 2,
 "cells": [
  {
   "source": [
    "# THE BASICS\n",
    "\n",
    "## Tensor Orders\n",
    "\n",
    "\n",
    "1. $1^{st}$-Order Tensors - Vectors\n",
    "\n",
    "    A $1^{st}$-Order Tensor is either a row or column vector. We often see it denoted as having shape of either $\\mathbb{R}^{Mx1}$ or $\\mathbb{R}^{1xN}$. Here, M dictates the number of rows (elements) in the column vector. N dictates the number of columns (elements) in the row vector. $\\mathbb{R}$ represents the overall state of the $1^{st}$-Order tensor. It means that the tensor is constructed of all real values and is in the shape of {M x 1} or {1 x N}.\n",
    "    \n",
    "    $$\n",
    "        A = \n",
    "        \\begin{bmatrix}\n",
    "        1 & 2 & 3\n",
    "        \\end{bmatrix}\n",
    "    $$\n",
    "\n",
    "    Where **A** is a 1 x 3 Vector\n",
    "\n",
    "    $$\n",
    "        B = \n",
    "        \\begin{bmatrix}\n",
    "        4 \\\\ 5 \\\\ 6\n",
    "        \\end{bmatrix}\n",
    "    $$\n",
    "\n",
    "    Where **B** is a 3 x 1 matrix.\n",
    "\n",
    "\n",
    "2. $2^{nd}$-Order Tensors - Matrices\n",
    "\n",
    "    A $2^{nd}$-Order Tensor is a matrix. Throughout the tutorial, we will only deal with real numbers. Therefore if **A** is a $2^{nd}$-Order Tensor having **M** rows and **N** columns, then A $\\in \\mathbb{R}^{MxN}$.\n",
    "\n",
    "    $$\n",
    "      A = \n",
    "      \\begin{bmatrix}\n",
    "      1 & 2 & 3 \\\\\n",
    "      4 & 5 & 6 \\\\\n",
    "      7 & 8 & 9\n",
    "      \\end{bmatrix}\n",
    "    $$\n",
    "\n",
    "    $ A \\in \\mathbb{R}^{3x3} $\n",
    "\n",
    "3. $3^{rd}$-Order Tensors - Cubes\n",
    "\n",
    "    A $3^{rd}$-Order Tensors can be thought of as a cube or stacked matrices. Therefore if **A** is a $3^{rd}$-Order Tensor having K instances of matrices of shape I rows and J columns, it would be denoted as **A** $\\in \\mathbb{R}^{IxJxK}$\n",
    "\n",
    "    $$\n",
    "        A = \n",
    "        \\begin{bmatrix}\n",
    "            \\begin{bmatrix}\n",
    "                1 & 2 & 3 \\\\\n",
    "                4 & 5 & 6 \\\\\n",
    "                7 & 8 & 9 \\\\\n",
    "                10 & 11 & 12\n",
    "            \\end{bmatrix}\n",
    "                \n",
    "            \\begin{bmatrix}\n",
    "                11 & 12 & 13 \\\\\n",
    "                14 & 15 & 16 \\\\\n",
    "                17 & 18 & 19 \\\\\n",
    "                20 & 21 & 22\n",
    "            \\end{bmatrix}\n",
    "\n",
    "            \\begin{bmatrix}\n",
    "                31 & 32 & 33 \\\\\n",
    "                34 & 35 & 36 \\\\\n",
    "                37 & 38 & 39 \\\\\n",
    "                40 & 41 & 42\n",
    "            \\end{bmatrix}\n",
    "        \\end{bmatrix}\n",
    "\n",
    "        $ A \\in \\mathbb{R}^{4x3x3}"
   ],
   "cell_type": "markdown",
   "metadata": {}
  },
  {
   "source": [
    "## Factorization\n"
   ],
   "cell_type": "markdown",
   "metadata": {}
  },
  {
   "source": [
    "To understand the premise of this paper (this method) we first need to get an understanding and intrinsic level of intuition for factorization. \n",
    "\n",
    "### Example 1\n",
    "Let's start with simple number factorization. If I give the number 24 and ask for the lowest factors possible, we can see that those factors are 3 and 2. This means that as long as I have both 3 and 2, I can reproduce 24. These are the most important building blocks of 24."
   ],
   "cell_type": "markdown",
   "metadata": {}
  },
  {
   "cell_type": "code",
   "execution_count": null,
   "metadata": {},
   "outputs": [],
   "source": [
    "\n",
    "from graphviz import Digraph\n",
    "# Create Digraph object\n",
    "dot = Digraph()\n",
    "\n",
    "# Add nodes\n",
    "dot.node('a', '24')\n",
    "dot.node('b', '12')\n",
    "dot.node('c', '2')\n",
    "dot.node('d','6')\n",
    "dot.node('e','3')\n",
    "\n",
    "# Add edges\n",
    "dot.edges(['ab', 'ac', 'bd', 'bc', 'de', 'dc'])\n",
    "\n",
    "# Visualize the graph\n",
    "dot"
   ]
  },
  {
   "source": [
    "### Example 2\n",
    "\n",
    "If **X** is defined as the set of numbers in:\n",
    "\n",
    "$$\n",
    "\\{1,3,6,9,18,27,36,54,81,162\\}\n",
    "$$\n",
    "\n",
    "We can actually store all the information we need about this set in the form of:\n",
    "\n",
    "$$\n",
    "\\{1,3,6,9\\}\n",
    "$$\n",
    "\n",
    "And this is becuase as long as we have these 4 numbers, we can create every value in **X**.\n",
    "\n",
    "\n",
    "### Example 3\n",
    "\n",
    "\n",
    "For a more relevant example. If the matrix **A** $\\in \\mathbb{R}^{4x4}$ is defined as:\n",
    "$$\n",
    "A = \n",
    "\\begin{bmatrix}\n",
    "2 & 12 & 6 & 18 \\\\\n",
    "7 & 42 & 21 & 63 \\\\\n",
    "4 & 24 & 12 & 36 \\\\\n",
    "1 & 6 & 3 & 9\n",
    "\\end{bmatrix}\n",
    "$$\n",
    "\n",
    "We can actually find two vectors that encompass all the information in *A* but in a reduced form. Without formal proof, the two vectors:\n",
    "\n",
    "$$\n",
    "v1 = \n",
    "\\begin{bmatrix}\n",
    "2 \\\\ 7 \\\\ 4 \\\\ 1\n",
    "\\end{bmatrix}\n",
    "\n",
    ", \n",
    "\n",
    "v2 = \n",
    "\\begin{bmatrix}\n",
    "1 \\\\ 6 \\\\ 3 \\\\ 9\n",
    "\\end{bmatrix}\n",
    "$$\n",
    "\n",
    "Will reproduce **A** when the outer product is taken between v1 and v2:\n",
    "\n",
    "$$\n",
    "v1 \\otimes v2 = \n",
    "\n",
    "\\begin{bmatrix}\n",
    "2 \\\\ 7 \\\\ 4 \\\\ 1\n",
    "\\end{bmatrix}\n",
    "\\otimes\n",
    "\\begin{bmatrix}\n",
    "1 & 6 & 3 & 9\n",
    "\\end{bmatrix}\n",
    "=\n",
    "\\begin{bmatrix}\n",
    "2*1 & 2*6 & 2*3 & 2*9 \\\\\n",
    "7*1 & 7*6 & 7*3 & 7*9 \\\\\n",
    "4*1 & 4*6 & 4*3 & 4*9 \\\\\n",
    "1*1 & 1*6 & 1*3 & 1*9\n",
    "\\end{bmatrix}\n",
    "=\n",
    "\\begin{bmatrix}\n",
    "2 & 12 & 6 & 18 \\\\\n",
    "7 & 42 & 21 & 63 \\\\\n",
    "4 & 24 & 12 & 36 \\\\\n",
    "1 & 6 & 3 & 9\n",
    "\\end{bmatrix}\n",
    "$$\n"
   ],
   "cell_type": "markdown",
   "metadata": {}
  },
  {
   "cell_type": "code",
   "execution_count": 38,
   "metadata": {},
   "outputs": [
    {
     "output_type": "execute_result",
     "data": {
      "text/plain": [
       "array([[ 2, 12,  6, 18],\n",
       "       [ 7, 42, 21, 63],\n",
       "       [ 4, 24, 12, 36],\n",
       "       [ 1,  6,  3,  9]])"
      ]
     },
     "metadata": {},
     "execution_count": 38
    }
   ],
   "source": [
    "A"
   ]
  },
  {
   "cell_type": "code",
   "execution_count": 48,
   "metadata": {},
   "outputs": [
    {
     "output_type": "stream",
     "name": "stdout",
     "text": [
      "U matrix shape: (4, 1)\nV matrix shape (1, 4)\n"
     ]
    }
   ],
   "source": [
    "rank = 1\n",
    "m,n = A.shape\n",
    "U = np.random.rand(m,rank)\n",
    "V = np.random.rand(rank,n)\n",
    "print(f'U matrix shape: {U.shape}\\nV matrix shape {V.shape}')"
   ]
  },
  {
   "cell_type": "code",
   "execution_count": 75,
   "metadata": {},
   "outputs": [],
   "source": [
    "def als(M, d, lam, iters):\n",
    "    #intialize U\n",
    "    #shape should be rank x M[rows]\n",
    "    H = np.random.random((d, M.shape[0]))\n",
    "    W = np.random.random((M.shape[1], d))\n",
    "    \n",
    "    #storage for errors per iteration\n",
    "    train_errors = []\n",
    "\n",
    "    \n",
    "\n",
    "    \n",
    "    #iterate\n",
    "    for _ in range(iters):\n",
    "        \n",
    "        AW = M@H.T\n",
    "        BW = H@H.T\n",
    "        CW = W@BW\n",
    "        W = W * (AW/CW)\n",
    "        \n",
    "        \n",
    "        AH = M@W\n",
    "        BH = W.T@W\n",
    "        CH = H.T@BH.T\n",
    "        H = H.T * (AH/CH)\n",
    "\n",
    "    return H, W\n",
    "\n"
   ]
  },
  {
   "cell_type": "code",
   "execution_count": null,
   "metadata": {},
   "outputs": [],
   "source": []
  },
  {
   "cell_type": "code",
   "execution_count": 84,
   "metadata": {},
   "outputs": [],
   "source": [
    "h,w = als(A, 1, 0,100)"
   ]
  },
  {
   "cell_type": "code",
   "execution_count": 85,
   "metadata": {},
   "outputs": [
    {
     "output_type": "execute_result",
     "data": {
      "text/plain": [
       "array([[ 3.71428571, 13.        ,  7.42857143,  1.85714286],\n",
       "       [13.        , 45.5       , 26.        ,  6.5       ],\n",
       "       [ 7.42857143, 26.        , 14.85714286,  3.71428571],\n",
       "       [ 1.85714286,  6.5       ,  3.71428571,  0.92857143]])"
      ]
     },
     "metadata": {},
     "execution_count": 85
    }
   ],
   "source": [
    "w@h.T"
   ]
  },
  {
   "cell_type": "code",
   "execution_count": 83,
   "metadata": {},
   "outputs": [
    {
     "output_type": "execute_result",
     "data": {
      "text/plain": [
       "array([[ 2, 12,  6, 18],\n",
       "       [ 7, 42, 21, 63],\n",
       "       [ 4, 24, 12, 36],\n",
       "       [ 1,  6,  3,  9]])"
      ]
     },
     "metadata": {},
     "execution_count": 83
    }
   ],
   "source": [
    "A"
   ]
  },
  {
   "cell_type": "code",
   "execution_count": null,
   "metadata": {},
   "outputs": [],
   "source": []
  },
  {
   "cell_type": "code",
   "execution_count": null,
   "metadata": {},
   "outputs": [],
   "source": [
    "def als(M, d, lam, iters):\n",
    "    #intialize U\n",
    "    #shape should be rank x M[rows]\n",
    "    U = np.random.random((d, M.shape[0]))\n",
    "    \n",
    "    #storage for errors per iteration\n",
    "    train_errors = []\n",
    "\n",
    "    \n",
    "\n",
    "    \n",
    "    #iterate\n",
    "    for _ in range(iters):\n",
    "        \n",
    "        #hold U constant and update V\n",
    "        V = np.linalg.pinv(U.dot(U.T) + lam * np.eye(d)).dot(U.dot(M))\n",
    " \n",
    "        #hold V constant and update U\n",
    "        U = np.linalg.pinv(V.dot(V.T) + lam * np.eye(d)).dot(V.dot(M.T))\n",
    "\n",
    "    return U,V"
   ]
  }
 ]
}